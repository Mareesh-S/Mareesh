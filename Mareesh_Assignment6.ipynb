{
 "cells": [
  {
   "cell_type": "code",
   "execution_count": 29,
   "metadata": {},
   "outputs": [
    {
     "name": "stdout",
     "output_type": "stream",
     "text": [
      "0\n",
      "1\n",
      "4\n"
     ]
    }
   ],
   "source": [
    "# 1) Create a generator that generates the squares of numbers up to some number N.\n",
    "\n",
    "def gensquare_num(n): # it returns integer values\n",
    "    '''\n",
    "    This is a generator function\n",
    "    '''\n",
    "    for i in range(n):\n",
    "        yield i**2\n",
    "    \n",
    "gensquare_num\n",
    "for i in gensquare_num(3):\n",
    "    print(i)"
   ]
  },
  {
   "cell_type": "code",
   "execution_count": 16,
   "metadata": {},
   "outputs": [
    {
     "name": "stdout",
     "output_type": "stream",
     "text": [
      "0\n",
      "1\n",
      "2\n"
     ]
    }
   ],
   "source": [
    "# 2) Create a generator that yields \"n\" random numbers between a low and high number (that are inputs). \n",
    "# Note: Use the random library.\n",
    "import random\n",
    "\n",
    "def gen_random_num(n):\n",
    "    for random_numbers in range(n):\n",
    "        yield random_numbers\n",
    "\n",
    "gen_random_num\n",
    "\n",
    "for i in gen_random_num(random.randint(1,10)):\n",
    "    \n",
    "    print(i)\n"
   ]
  },
  {
   "cell_type": "code",
   "execution_count": 2,
   "metadata": {},
   "outputs": [
    {
     "name": "stdout",
     "output_type": "stream",
     "text": [
      "h\n",
      "e\n",
      "l\n",
      "l\n",
      "o\n"
     ]
    }
   ],
   "source": [
    "# 3) Use the iter() function to convert the string below into an iterator:\n",
    "# s = 'hello'\n",
    "\n",
    "# Method 1\n",
    "\n",
    "s = 'hello'\n",
    "iter_s=iter(s)  # converted the string into an iterator\n",
    "#print(iter_s)  # The output will be <str_iterator object at 0x0000000106670AC8>\n",
    "#next(iter_s)\n",
    "\n",
    "for i in iter_s:\n",
    "    print(i)\n",
    "\n",
    "# # Alternate Method\n",
    "# def convert_string_to_Iter():\n",
    "#     s='hello'\n",
    "#     iter_s=iter(s)\n",
    "#     #print(iter_s)  # The output will be <str_iterator object at 0x0000000106670AC8>\n",
    "#     for i in iter_s:\n",
    "#         yield i\n",
    "\n",
    "# g=convert_string_to_Iter()\n",
    "# #g     # The output will be <generator object convert_string_to_Iter at 0x0000000106DAFAC8>\n",
    "# next(g)\n",
    "\n"
   ]
  },
  {
   "cell_type": "code",
   "execution_count": 18,
   "metadata": {},
   "outputs": [
    {
     "name": "stdout",
     "output_type": "stream",
     "text": [
      "4\n",
      "5\n"
     ]
    }
   ],
   "source": [
    "# 4) Provide the output and explantion of the logic that is used in this code\n",
    "# my_list = [1,2,3,4,5]\n",
    "# gencomp = (item for item in my_list if item > 3)\n",
    "# for item in gencomp: print(item)\n",
    "\n",
    "my_list = [1,2,3,4,5]\n",
    "gencomp = (item for item in my_list if item > 3)  # It gets executed first.it checks each iterate greater than 3.\n",
    "                                                  #only that value gets stored in gencomp object\n",
    "for item in gencomp: print(item)    # It gets iterated for the count of values stored in that gencomp object. \n",
    "    \n",
    "# Similar To \n",
    "# def gencomp(my_list):\n",
    "#     for item in my_list:\n",
    "#         if item > 3:\n",
    "#             print(item)\n",
    "# gencomp([1,2,3,4,5])"
   ]
  },
  {
   "cell_type": "code",
   "execution_count": 19,
   "metadata": {},
   "outputs": [
    {
     "data": {
      "text/plain": [
       "[3, 4, 3, 3, 5, 2, 4, 6]"
      ]
     },
     "execution_count": 19,
     "metadata": {},
     "output_type": "execute_result"
    }
   ],
   "source": [
    "# 5) Use map() to create a function which finds the length of each word in the phrase (broken by spaces) \n",
    "# and returns the values in a list.\n",
    "# The function will have an input of a string, and output a list of integers.\n",
    "# word phrase is :'How long are the words in this phrase'\n",
    "\n",
    "phrase = 'How long are the words in this phrase'\n",
    "word=phrase.split() \n",
    "#print(len(word))# prints output as 8\n",
    "\n",
    "list(map(lambda count:len(count),word))\n",
    "\n",
    "# In General, we write below like this\n",
    "\n",
    "#[len(count) for count in word]"
   ]
  },
  {
   "cell_type": "code",
   "execution_count": 20,
   "metadata": {},
   "outputs": [
    {
     "data": {
      "text/plain": [
       "3451"
      ]
     },
     "execution_count": 20,
     "metadata": {},
     "output_type": "execute_result"
    }
   ],
   "source": [
    "# 6) Use reduce() to take a list of digits and return the number that they correspond to. \n",
    "# For example, [1, 2, 3] corresponds to one-hundred-twenty-three.\n",
    "# Do not convert the integers to strings!\n",
    "# another example [3,4,5,1] == 3451\n",
    "\n",
    "from functools import reduce\n",
    "\n",
    "num=[3,4,5,1]\n",
    "reduce(lambda a,d: 10*a+d, num, 0)   # initially a=0,d=3(10*0+3,3);a=3,d=4(10*3+4,34);\n",
    "                #a=34,d=5(10*34+5,34);a=345,d=1;3451 gets printed\n"
   ]
  },
  {
   "cell_type": "code",
   "execution_count": 26,
   "metadata": {},
   "outputs": [
    {
     "name": "stdout",
     "output_type": "stream",
     "text": [
      "The words starting from h in ['hello', 'are', 'cat', 'dog', 'ham', 'hi', 'go', 'to', 'heart'] are : \n"
     ]
    },
    {
     "data": {
      "text/plain": [
       "['hello', 'ham', 'hi', 'heart']"
      ]
     },
     "execution_count": 26,
     "metadata": {},
     "output_type": "execute_result"
    }
   ],
   "source": [
    "# 7) Use filter to return the words from a list of words which start with a target letter.\n",
    "# l = ['hello','are','cat','dog','ham','hi','go','to','heart']\n",
    "# if my target is 'h' then it should return me all the words starting from h\n",
    "\n",
    "def check_target_words(string):\n",
    "    return string.startswith('h')\n",
    "\n",
    "\n",
    "l= ['hello','are','cat','dog','ham','hi','go','to','heart']\n",
    "print(f\"The words starting from h in {l} are : \")\n",
    "list(filter(check_target_words,l))"
   ]
  },
  {
   "cell_type": "code",
   "execution_count": 22,
   "metadata": {},
   "outputs": [
    {
     "name": "stdout",
     "output_type": "stream",
     "text": [
      "['A-a', 'B-b']\n"
     ]
    }
   ],
   "source": [
    "# 8) Use zip() and a list comprehension to return a list of the same length \n",
    "# where each value is the two strings from L1 and L2 concatenated together with connector between them.\n",
    "# for e.g concatenate(['A','B'],['a','b'],'-')\n",
    "# should return as ['A-a', 'B-b']\n",
    "\n",
    "\n",
    "l1= ['A','B']\n",
    "l2= ['a','b']\n",
    "print([(x + \"-\" + y) for x,y in zip(l1,l2)]) # During first iterate x=A,y=a followed by x=B,y=b\n"
   ]
  },
  {
   "cell_type": "code",
   "execution_count": 23,
   "metadata": {},
   "outputs": [
    {
     "name": "stdout",
     "output_type": "stream",
     "text": [
      "The key and value of the list ['hello', 'are', 'cat', 'dog'] is : \n"
     ]
    },
    {
     "data": {
      "text/plain": [
       "{'hello': 0, 'are': 1, 'cat': 2, 'dog': 3}"
      ]
     },
     "execution_count": 23,
     "metadata": {},
     "output_type": "execute_result"
    }
   ],
   "source": [
    "# 9) Use enumerate() and other skills to return a dictionary which has the values of the list as keys \n",
    "# and the index as the value. You may assume that a value will only appear once in the given list.\n",
    "\n",
    "def display(my_list):\n",
    "    return {value: index for index,value in enumerate(my_list)}\n",
    "        \n",
    "lst = ['hello','are','cat','dog',]\n",
    "print(f\"The key and value of the list {lst} is : \")\n",
    "display(lst)\n",
    "    "
   ]
  },
  {
   "cell_type": "code",
   "execution_count": 24,
   "metadata": {},
   "outputs": [
    {
     "name": "stdout",
     "output_type": "stream",
     "text": [
      "The count of the number of items in the list whose value equals its index [0, 2, 2, 1, 5, 5, 6, 10] is : \n",
      "4\n"
     ]
    }
   ],
   "source": [
    "# 10) Use enumerate() and other skills from above to return the count of the number of items in the list \n",
    "# whose value equals its index \n",
    "# for eg : count_match_index([0,2,2,1,5,5,6,10]) should give the output as 4\n",
    "\n",
    "\n",
    "def count_match_index(values):\n",
    "    count = 0\n",
    "    for index,value in enumerate(values): # enumerate will have data in the form of index and value pair\n",
    "        if index == value:          # if index equals the value in the list \n",
    "            count += 1       # count gets incremented\n",
    "    print(count)\n",
    "\n",
    "lst = [0,2,2,1,5,5,6,10]  \n",
    "print(f\"The count of the number of items in the list whose value equals its index {lst} is : \")\n",
    "count_match_index(lst)"
   ]
  },
  {
   "cell_type": "code",
   "execution_count": null,
   "metadata": {},
   "outputs": [],
   "source": []
  }
 ],
 "metadata": {
  "kernelspec": {
   "display_name": "Python 3",
   "language": "python",
   "name": "python3"
  },
  "language_info": {
   "codemirror_mode": {
    "name": "ipython",
    "version": 3
   },
   "file_extension": ".py",
   "mimetype": "text/x-python",
   "name": "python",
   "nbconvert_exporter": "python",
   "pygments_lexer": "ipython3",
   "version": "3.7.6"
  }
 },
 "nbformat": 4,
 "nbformat_minor": 4
}
