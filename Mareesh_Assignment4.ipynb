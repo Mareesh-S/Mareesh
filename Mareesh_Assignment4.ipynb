{
 "cells": [
  {
   "cell_type": "code",
   "execution_count": 1,
   "metadata": {},
   "outputs": [
    {
     "name": "stdout",
     "output_type": "stream",
     "text": [
      "Initial queue\n",
      "['a', 'b', 'c']\n",
      "\n",
      "Elements removed from queue in FIFO behaviour\n",
      "a\n",
      "b\n",
      "c\n",
      "\n",
      "Queue after removing elements\n",
      "[]\n"
     ]
    }
   ],
   "source": [
    "# 1) Write code to create Queue using List and provide all the functionalities of the Queue\n",
    "\n",
    "# Initializing a queue using list\n",
    "queue = []\n",
    "\n",
    "# Add an element to the back of the queue (known as enqueuing)\n",
    "queue.append('a')\n",
    "queue.append('b')\n",
    "queue.append('c')\n",
    "\n",
    "print(\"Initial queue\")\n",
    "print(queue)\n",
    "\n",
    "# Remove an element from the front of the queue (known as dequeuing).\n",
    "print(\"\\nElements removed from queue in FIFO behaviour\")\n",
    "print(queue.pop(0))\n",
    "print(queue.pop(0))\n",
    "print(queue.pop(0))\n",
    "\n",
    "# Check to see if the queue is empty.\n",
    "print(\"\\nQueue after removing elements\")\n",
    "print(queue)"
   ]
  },
  {
   "cell_type": "code",
   "execution_count": 2,
   "metadata": {},
   "outputs": [
    {
     "name": "stdout",
     "output_type": "stream",
     "text": [
      "Initial stack\n",
      "['a', 'b', 'c']\n",
      "\n",
      "Elements removed from stack in LIFO behaviour\n",
      "c\n",
      "b\n",
      "a\n",
      "\n",
      "Stack after elements are removed:\n",
      "[]\n"
     ]
    }
   ],
   "source": [
    "# 2) Write code to create Stack using List and provide all the functionalities of the Stack\n",
    "\n",
    "# Stack creation.\n",
    "stack = []\n",
    "\n",
    "# Add an element to the top of the stack (known as pushing onto the stack)\n",
    "stack.append('a')\n",
    "stack.append('b')\n",
    "stack.append('c')\n",
    "\n",
    "print('Initial stack')\n",
    "print(stack)\n",
    "\n",
    "# Remove an element from the top of the stack (known as popping from the stack)\n",
    "# LIFO order\n",
    "print('\\nElements removed from stack in LIFO behaviour')\n",
    "print(stack.pop())\n",
    "print(stack.pop())\n",
    "print(stack.pop())\n",
    "\n",
    "# Check to see if the stack is empty.\n",
    "print('\\nStack after elements are removed:')\n",
    "print(stack)"
   ]
  },
  {
   "cell_type": "code",
   "execution_count": 3,
   "metadata": {},
   "outputs": [
    {
     "name": "stdout",
     "output_type": "stream",
     "text": [
      "The students belongs to exam = {'Beth', 'Andrew', 'Kirsty', 'Sue', 'Emily'} and project = {'Stuart', 'Kirsty', 'Ian', 'Emily'}\n",
      "The students took both the exam and submitted a project : \n",
      " {'Kirsty', 'Emily'}\n",
      "The students only took the exam : \n",
      " {'Andrew', 'Sue', 'Beth'}\n",
      "The students only submitted the project : \n",
      " {'Stuart', 'Ian'}\n",
      "The students who took either (or both) of the exam and the project : \n",
      " {'Beth', 'Andrew', 'Kirsty', 'Ian', 'Stuart', 'Sue', 'Emily'}\n",
      "The students who took either (but not both) of the exam and the project : \n",
      " {'Beth', 'Andrew', 'Ian', 'Stuart', 'Sue'}\n"
     ]
    }
   ],
   "source": [
    "# 3) Create two sets of students, one for those who took an exam and one for those that submitted a project.\n",
    "# simple strings is used to represent the students\n",
    "# Set up sets\n",
    "# exam = {'Andrew', 'Kirsty', 'Beth', 'Emily', 'Sue'}\n",
    "# project = {'Kirsty', 'Emily', 'Ian', 'Stuart'}\n",
    "# Using these sets write the code using different set methods to show the below following question functionalities:\n",
    "# • Which students took both the exam and submitted a project?\n",
    "# • Which students only took the exam?\n",
    "# • Which students only submitted the project?\n",
    "# • List all students who took either (or both) of the exam and the project.\n",
    "# • List all students who took either (but not both) of the exam and the project.\n",
    "\n",
    "exam = {'Andrew', 'Kirsty', 'Beth', 'Emily', 'Sue'}\n",
    "project = {'Kirsty', 'Emily', 'Ian', 'Stuart'}\n",
    "\n",
    "print(f\"The students belongs to exam = {exam} and project = {project}\")\n",
    "print(\"The students took both the exam and submitted a project : \\n\", exam.intersection(project))\n",
    "print(\"The students only took the exam : \\n\", exam.difference(project))\n",
    "print(\"The students only submitted the project : \\n\", project.difference(exam))\n",
    "print(\"The students who took either (or both) of the exam and the project : \\n\", exam.union(project))\n",
    "print(\"The students who took either (but not both) of the exam and the project : \\n\", exam.symmetric_difference(project))"
   ]
  },
  {
   "cell_type": "code",
   "execution_count": 4,
   "metadata": {},
   "outputs": [
    {
     "name": "stdout",
     "output_type": "stream",
     "text": [
      "Enter the number to print between its prime values : 10\n",
      "2\n",
      "3\n",
      "5\n",
      "7\n"
     ]
    }
   ],
   "source": [
    "# 4) A program to calculate prime number starting from 1 up to the value input by the user\n",
    "\n",
    "num = int(input(\"Enter the number to print between its prime values : \"))\n",
    "if num > 1:\n",
    "    for val in range(2, num):\n",
    "        for i in range(2, val):\n",
    "            if val % i == 0:  # if the value is divisible by any of the num itself then it's not prime\n",
    "                break\n",
    "        else:\n",
    "            print(val)\n",
    "else:\n",
    "    print(\"Error Occurs\")\n",
    "    num = int(input(\"Enter the number greater than 2 to print all its prime values : \"))"
   ]
  },
  {
   "cell_type": "code",
   "execution_count": 6,
   "metadata": {},
   "outputs": [
    {
     "name": "stdout",
     "output_type": "stream",
     "text": [
      "The elements in {1, 2, 3, 5, 6, 8} that are not in {1, 3, 5, 6, 7, 8} is :  {2}\n",
      "The elements that are in either set  {1, 2, 3, 5, 6, 8} and {1, 3, 5, 6, 7, 8} is :  {1, 2, 3, 5, 6, 7, 8}\n"
     ]
    }
   ],
   "source": [
    "# 5) Find the elements in set1 that are not in set2:\n",
    "# Find all elements that are in either set:\n",
    "# set1 = {2,3,1,5,6,8}\n",
    "# set2 = {3,1,7,5,6,8}\n",
    "\n",
    "set1 = {2, 3, 1, 5, 6, 8}\n",
    "set2 = {3, 1, 7, 5, 6, 8}\n",
    "print(f\"The elements in {set1} that are not in {set2} is : \", set1.difference(set2))\n",
    "print(f\"The elements that are in either set  {set1} and {set2} is : \", set1.union(set2))"
   ]
  },
  {
   "cell_type": "code",
   "execution_count": 7,
   "metadata": {},
   "outputs": [
    {
     "name": "stdout",
     "output_type": "stream",
     "text": [
      "Expected dictionary using dictionary comprehension is :  {0: 0, 1: 1, 2: 8, 3: 27}\n"
     ]
    }
   ],
   "source": [
    "# 6) Create this dictionary: {0: 0, 1: 1, 2: 8, 3: 27, 4: 64} using a dictionary comprehension\n",
    "\n",
    "dict = {num: num**3 for num in range(4)}\n",
    "print(\"Expected dictionary using dictionary comprehension is : \", dict)"
   ]
  },
  {
   "cell_type": "code",
   "execution_count": 8,
   "metadata": {},
   "outputs": [
    {
     "name": "stdout",
     "output_type": "stream",
     "text": [
      "1\n",
      "2\n",
      "fizz\n",
      "4\n",
      "buzz\n",
      "fizz\n",
      "7\n",
      "8\n",
      "fizz\n",
      "buzz\n",
      "11\n",
      "fizz\n",
      "13\n",
      "14\n",
      "fizzbuzz\n",
      "16\n",
      "17\n",
      "fizz\n",
      "19\n",
      "buzz\n",
      "fizz\n",
      "22\n",
      "23\n",
      "fizz\n",
      "buzz\n",
      "26\n",
      "fizz\n",
      "28\n",
      "29\n",
      "fizzbuzz\n",
      "31\n",
      "32\n",
      "fizz\n",
      "34\n",
      "buzz\n",
      "fizz\n",
      "37\n",
      "38\n",
      "fizz\n",
      "buzz\n",
      "41\n",
      "fizz\n",
      "43\n",
      "44\n",
      "fizzbuzz\n",
      "46\n",
      "47\n",
      "fizz\n",
      "49\n",
      "buzz\n",
      "fizz\n",
      "52\n",
      "53\n",
      "fizz\n",
      "buzz\n",
      "56\n",
      "fizz\n",
      "58\n",
      "59\n",
      "fizzbuzz\n",
      "61\n",
      "62\n",
      "fizz\n",
      "64\n",
      "buzz\n",
      "fizz\n",
      "67\n",
      "68\n",
      "fizz\n",
      "buzz\n",
      "71\n",
      "fizz\n",
      "73\n",
      "74\n",
      "fizzbuzz\n",
      "76\n",
      "77\n",
      "fizz\n",
      "79\n",
      "buzz\n",
      "fizz\n",
      "82\n",
      "83\n",
      "fizz\n",
      "buzz\n",
      "86\n",
      "fizz\n",
      "88\n",
      "89\n",
      "fizzbuzz\n",
      "91\n",
      "92\n",
      "fizz\n",
      "94\n",
      "buzz\n",
      "fizz\n",
      "97\n",
      "98\n",
      "fizz\n"
     ]
    }
   ],
   "source": [
    "# 7) Write a program that prints the numbers from 1 to 100. \n",
    "# But for multiples of three print “Fizz” instead of the number\n",
    "# and for the multiples of five print “Buzz”. \n",
    "# For numbers which are multiples of both three and five print “FizzBuzz”.\n",
    "\n",
    "for fizzbuzz in range(1, 100):\n",
    "    if fizzbuzz % 3 == 0 and fizzbuzz % 5 == 0:\n",
    "        print(\"fizzbuzz\")\n",
    "        continue\n",
    "    elif fizzbuzz % 3 == 0:\n",
    "        print(\"fizz\")\n",
    "        continue\n",
    "    elif fizzbuzz % 5 == 0:\n",
    "        print(\"buzz\")\n",
    "        continue\n",
    "    print(fizzbuzz)"
   ]
  },
  {
   "cell_type": "code",
   "execution_count": 9,
   "metadata": {},
   "outputs": [
    {
     "name": "stdout",
     "output_type": "stream",
     "text": [
      "Enter the string to check for palindrome or not : racecar\n",
      "The entered string racecar is a palindrome.\n"
     ]
    }
   ],
   "source": [
    "# 8) Checks if the string entered by the user is a palindrome for “racecar”\n",
    "\n",
    "string = input(\"Enter the string to check for palindrome or not : \")\n",
    "tmp = list(string.lower())      # Converted string to a list in the form of lower case & stored in a tmp variable\n",
    "reversed_string = list(string[::-1])    # Converted reverse of the string in the list &  stored in another variable\n",
    "if tmp == reversed_string:  # Comparing the original string with the reverse of the entered string\n",
    "    print(f\"The entered string {string} is a palindrome.\")\n",
    "else:\n",
    "    print(f\"The entered string {string} is not a Palindrome.\")"
   ]
  },
  {
   "cell_type": "code",
   "execution_count": null,
   "metadata": {},
   "outputs": [],
   "source": []
  }
 ],
 "metadata": {
  "kernelspec": {
   "display_name": "Python 3",
   "language": "python",
   "name": "python3"
  },
  "language_info": {
   "codemirror_mode": {
    "name": "ipython",
    "version": 3
   },
   "file_extension": ".py",
   "mimetype": "text/x-python",
   "name": "python",
   "nbconvert_exporter": "python",
   "pygments_lexer": "ipython3",
   "version": "3.7.6"
  }
 },
 "nbformat": 4,
 "nbformat_minor": 4
}
