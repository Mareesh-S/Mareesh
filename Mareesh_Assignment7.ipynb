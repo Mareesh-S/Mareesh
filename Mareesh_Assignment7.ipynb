{
 "cells": [
  {
   "cell_type": "code",
   "execution_count": 46,
   "metadata": {},
   "outputs": [
    {
     "name": "stdout",
     "output_type": "stream",
     "text": [
      "9.433981132056603\n",
      "1.6\n"
     ]
    }
   ],
   "source": [
    "# Problem 1\n",
    "# Fill in the Line class methods to accept coordinates as a pair of tuples and return the slope and distance of the line.\n",
    "# class Line:\n",
    "# def __init__(self,coor1,coor2):\n",
    "# pass\n",
    "# def distance(self):\n",
    "# pass\n",
    "# def slope(self):\n",
    "# pass\n",
    "# # EXAMPLE OUTPUT\n",
    "# coordinate1 = (3,2)\n",
    "# coordinate2 = (8,10)\n",
    "# li = Line(coordinate1,coordinate2)\n",
    "# li.distance()\n",
    "# 9.433981132056603\n",
    "# li.slope()\n",
    "# 1.6\n",
    "\n",
    "\n",
    "class Line:\n",
    "    '''\n",
    "    To accept coordinates as a pair of tuples and return the slope and distance of the line\n",
    "    Taken two arguments as coor1 and coor2\n",
    "    Two methods as distance and slope\n",
    "    distance formula is : squareroot(((x2-x1)^2 + (y2-y1)^2))\n",
    "    slope formula is : (y2-y1)/(x2-x1)\n",
    "    '''\n",
    "    def __init__(self,coor1,coor2):\n",
    "        self.coor1 = coor1 # attributes\n",
    "        self.coor2 = coor2 # can be same as that of the arguments\n",
    "\n",
    "    def distance(self): # methods    .\n",
    "        x1,y1 = self.coor1\n",
    "        x2,y2 = self.coor2\n",
    "        print(((x2-x1)**2 + (y2-y1)**2)**0.5)\n",
    "\n",
    "    def slope(self): # methods \n",
    "        x1,y1 = self.coor1\n",
    "        x2,y2 = self.coor2\n",
    "        print((y2-y1)/(x2-x1))\n",
    "\n",
    "coordinate1 = (3,2)\n",
    "\n",
    "coordinate2 = (8,10)\n",
    "\n",
    "li = Line(coordinate1,coordinate2) # created instance for the class Line\n",
    "\n",
    "li.distance()\n",
    "li.slope()"
   ]
  },
  {
   "cell_type": "code",
   "execution_count": 44,
   "metadata": {},
   "outputs": [
    {
     "name": "stdout",
     "output_type": "stream",
     "text": [
      "56.52\n",
      "94.2\n"
     ]
    }
   ],
   "source": [
    "# Problem 2:\n",
    "# class Cylinder:\n",
    "#     def __init__(self,height=1,radius=1):\n",
    "#     pass\n",
    "#     def volume(self):\n",
    "#     pass\n",
    "#     def surface_area(self):\n",
    "#     pass\n",
    "\n",
    "# # EXAMPLE OUTPUT\n",
    "\n",
    "# c = Cylinder(2,3)\n",
    "# c.volume()\n",
    "# 56.52\n",
    "# c.surface_area()\n",
    "# 94.2\n",
    "\n",
    "class Cylinder:\n",
    "    '''\n",
    "    To find the volume and surface area of the cylinder\n",
    "    '''\n",
    "    def __init__(self,height=1,radius=1): #Cylinder gets instantiated with height and radius (default is 1)\n",
    "        self.height = height # attributes\n",
    "        self.radius = radius # can be same as that of the arguments\n",
    "        \n",
    "    def volume(self): # method 1 ( π x (r)^2 x h )\n",
    "        print(self.height*3.14*(self.radius)**2)\n",
    "    \n",
    "    def surface_area(self): # method 2 (2π r h + 2π r²)\n",
    "        top = 3.14 * (self.radius)**2  # π r²\n",
    "        print((2*top) + (2*3.14*self.radius*self.height))\n",
    "\n",
    "c = Cylinder(2,3) # created instance for the class Cylinder\n",
    "c.volume()\n",
    "c.surface_area()"
   ]
  },
  {
   "cell_type": "code",
   "execution_count": 4,
   "metadata": {},
   "outputs": [
    {
     "name": "stdout",
     "output_type": "stream",
     "text": [
      "Account Holder: Jose\n",
      "A/C bal: 100\n"
     ]
    }
   ],
   "source": [
    "# Problem 3:\n",
    "\n",
    "# create a bank account class that has two attributes:\n",
    "# owner\n",
    "# balance\n",
    "# and two methods:\n",
    "# deposit\n",
    "# withdraw\n",
    "# As an added requirement, withdrawals may not exceed the available balance.\n",
    "# Instantiate your class, make several deposits and withdrawals, and test to make sure the account can't be overdrawn.\n",
    "# class Account:\n",
    "\n",
    "# pass\n",
    "\n",
    "# # 1. Instantiate the class\n",
    "\n",
    "# acct1 = Account('Jose',100)\n",
    "\n",
    "# # 2. Print the object\n",
    "\n",
    "# print(acct1)\n",
    "\n",
    "# Account owner: Jose\n",
    "\n",
    "# Account balance: $100\n",
    "\n",
    "# # 3. Show the account owner attribute\n",
    "\n",
    "# acct1.owner\n",
    "\n",
    "# 'Jose'\n",
    "\n",
    "class Account:\n",
    "    \n",
    "    def __init__(self, owner, balance):\n",
    "        self.owner = owner # attributes\n",
    "        self.balance = balance\n",
    "    \n",
    "    def __str__(self):\n",
    "        return 'Account Holder: {owner}\\nA/C bal: {balance}'.format(owner=self.owner, balance=self.balance)\n",
    "        \n",
    "    def deposit(self, deposit_money):\n",
    "        pass\n",
    "    \n",
    "    def withdraw(self, withdraw_money):\n",
    "        pass\n",
    "            \n",
    "amount = Account('Jose',100)\n",
    "print(amount)"
   ]
  },
  {
   "cell_type": "code",
   "execution_count": 5,
   "metadata": {},
   "outputs": [
    {
     "name": "stdout",
     "output_type": "stream",
     "text": [
      "Your balance is : 100\n"
     ]
    }
   ],
   "source": [
    "# 4. Show the account balance attribute\n",
    "# acct1.balance\n",
    "# 100\n",
    "\n",
    "class Account:\n",
    "    def __init__(self,owner,balance):\n",
    "        self.owner = owner\n",
    "        self.balance = balance\n",
    "    def deposit(self, deposit_amount):\n",
    "        self.balance = self.balance + deposit_amount\n",
    "        print('Your balance is : {balance}'.format(balance=self.balance))\n",
    "        \n",
    "account = Account('Jose',50)\n",
    "account.deposit(50)"
   ]
  },
  {
   "cell_type": "code",
   "execution_count": 10,
   "metadata": {},
   "outputs": [
    {
     "name": "stdout",
     "output_type": "stream",
     "text": [
      "Your balance is : 300\n",
      "Withdrawal Accepted! Your balance is : 25\n"
     ]
    }
   ],
   "source": [
    "# 5. Make a series of deposits and withdrawals\n",
    "# acct1.deposit(50)\n",
    "# Deposit Accepted\n",
    "# acct1.withdraw(75)\n",
    "# Withdrawal Accepted\n",
    "\n",
    "class Account:\n",
    "    def __init__(self,owner,balance):\n",
    "        self.owner = owner\n",
    "        self.balance = balance\n",
    "    def deposit(self, deposit_amount):\n",
    "        self.balance = self.balance + deposit_amount\n",
    "        print('Withdrawal Accepted! Your balance is : {balance}'.format(balance=self.balance))\n",
    "        #print ('Deposit Accepted!')\n",
    "    def withdraw(self, withdraw_amount):\n",
    "        self.balance = self.balance - withdraw_amount\n",
    "        print('Withdrawal Accepted! Your balance is : {balance}'.format(balance=self.balance))\n",
    "        \n",
    "amount = Account('Jose',100)\n",
    "account.deposit(50)\n",
    "amount.withdraw(75)"
   ]
  },
  {
   "cell_type": "code",
   "execution_count": 9,
   "metadata": {},
   "outputs": [
    {
     "data": {
      "text/plain": [
       "'Funds Unavailable!'"
      ]
     },
     "execution_count": 9,
     "metadata": {},
     "output_type": "execute_result"
    }
   ],
   "source": [
    "# 6. Make a withdrawal that exceeds the available balance\n",
    "# acct1.withdraw(500)\n",
    "# Funds Unavailable!\n",
    "\n",
    "class Account:\n",
    "    def __init__(self,owner,balance):\n",
    "        self.owner = owner\n",
    "        self.balance = balance\n",
    "    def deposit(self, deposit_amount):\n",
    "        self.balance = self.balance + deposit_amount\n",
    "    def withdraw(self, withdraw_amount):\n",
    "        if withdraw_amount > self.balance:\n",
    "            return 'Funds Unavailable!'\n",
    "amount = Account('Jose',100)        \n",
    "amount.deposit(50)\n",
    "amount.withdraw(75)\n",
    "amount.withdraw(500)      "
   ]
  },
  {
   "cell_type": "code",
   "execution_count": null,
   "metadata": {},
   "outputs": [],
   "source": []
  }
 ],
 "metadata": {
  "kernelspec": {
   "display_name": "Python 3",
   "language": "python",
   "name": "python3"
  },
  "language_info": {
   "codemirror_mode": {
    "name": "ipython",
    "version": 3
   },
   "file_extension": ".py",
   "mimetype": "text/x-python",
   "name": "python",
   "nbconvert_exporter": "python",
   "pygments_lexer": "ipython3",
   "version": "3.7.6"
  }
 },
 "nbformat": 4,
 "nbformat_minor": 4
}
