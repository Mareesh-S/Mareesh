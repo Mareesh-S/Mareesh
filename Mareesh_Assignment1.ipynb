{
 "cells": [
  {
   "cell_type": "code",
   "execution_count": 3,
   "metadata": {},
   "outputs": [
    {
     "name": "stdout",
     "output_type": "stream",
     "text": [
      "The value of the expression 4 * (6 + 5) is:  44\n",
      "The value of the expression 4 * 6 + 5 is:  29\n",
      "The value of expression 4 + 6 * 5 is:  34\n",
      "The value of expressions of a, b, c is:  44 29 34\n"
     ]
    }
   ],
   "source": [
    "# 1) Value of the expressions\n",
    "\n",
    "a = 4 * (6+5)\n",
    "print('The value of the expression 4 * (6 + 5) is: ', a)\n",
    "b = 4 * 6 + 5\n",
    "print('The value of the expression 4 * 6 + 5 is: ', b)\n",
    "c = 4 + 6 * 5\n",
    "print('The value of expression 4 + 6 * 5 is: ', c)\n",
    "\n",
    "# Alternative Method\n",
    "\n",
    "a = 4 * (6+5)\n",
    "b = 4 * 6 + 5\n",
    "c = 4 + 6 * 5\n",
    "print('The value of expressions of a, b, c is: ', a,b,c)"
   ]
  },
  {
   "cell_type": "code",
   "execution_count": 4,
   "metadata": {},
   "outputs": [
    {
     "name": "stdout",
     "output_type": "stream",
     "text": [
      "The index value of 1 is :  e\n"
     ]
    }
   ],
   "source": [
    "# 2) Print out 'e' from 'hello' using indexing\n",
    "\n",
    "s = 'hello'\n",
    "print('The index value of 1 is : ', s[1])"
   ]
  },
  {
   "cell_type": "code",
   "execution_count": 5,
   "metadata": {},
   "outputs": [
    {
     "name": "stdout",
     "output_type": "stream",
     "text": [
      "The result of equation is :  100.25\n"
     ]
    }
   ],
   "source": [
    "# 3) Equation to print 100.25 using operators\n",
    "\n",
    "Eqn = 100/2 + (5 ** 2)*2 + 0.50 - 0.25\n",
    "print('The result of equation is : ', Eqn)"
   ]
  },
  {
   "cell_type": "code",
   "execution_count": 6,
   "metadata": {},
   "outputs": [
    {
     "name": "stdout",
     "output_type": "stream",
     "text": [
      "The reverse string of hello is :  olleh\n"
     ]
    }
   ],
   "source": [
    "# 4) Reverse the string 'hello' using slicing\n",
    "\n",
    "print('The reverse string of hello is : ', s[::-1])  # the negative number indicates reverse of a string"
   ]
  },
  {
   "cell_type": "code",
   "execution_count": 7,
   "metadata": {},
   "outputs": [
    {
     "name": "stdout",
     "output_type": "stream",
     "text": [
      "First method to display letter 'o':  o\n",
      "Second method to display letter 'o':  o\n"
     ]
    }
   ],
   "source": [
    "# 5) Given the string hello, give two methods of producing the letter 'o' using indexing\n",
    "\n",
    "# Method 1\n",
    "print(\"First method to display letter 'o': \", s[-1])\n",
    "# Method 2\n",
    "print(\"Second method to display letter 'o': \", s[4])"
   ]
  },
  {
   "cell_type": "code",
   "execution_count": 8,
   "metadata": {},
   "outputs": [
    {
     "name": "stdout",
     "output_type": "stream",
     "text": [
      "The result of 2 > 3 is :  False\n",
      "The result of 3 <= 2 is :  False\n",
      "The result of 3 == 2.0 is :  False\n",
      "The result of 3.0 == 3 is :  True\n"
     ]
    }
   ],
   "source": [
    "# 6) Question based on Booleans\n",
    "\n",
    "a = 2 > 3\n",
    "print('The result of 2 > 3 is : ', a)\n",
    "b = 3 <= 2\n",
    "print('The result of 3 <= 2 is : ', b)\n",
    "c = 3 == 2.0\n",
    "print('The result of 3 == 2.0 is : ', c)\n",
    "d = 3.0 == 3\n",
    "print('The result of 3.0 == 3 is : ', d)"
   ]
  },
  {
   "cell_type": "code",
   "execution_count": 14,
   "metadata": {},
   "outputs": [
    {
     "name": "stdout",
     "output_type": "stream",
     "text": [
      "['Print', 'only', 'the', 'words', 'that', 'start', 'with', 's', 'in', 'this', 'sentence']\n",
      "start\n",
      "s\n",
      "sentence\n"
     ]
    }
   ],
   "source": [
    "# 7) Print only the words that start with s in this sentence using split()\n",
    "\n",
    "st = 'Print only the words that start with s in this sentence'\n",
    "# print(st.split()) # Splitting the input sentence to word seperated with comas\n",
    "for word in st.split():\n",
    "    if word[0] == 's':  # checks first index of the letter equals to s\n",
    "        print(word)"
   ]
  },
  {
   "cell_type": "code",
   "execution_count": 10,
   "metadata": {},
   "outputs": [
    {
     "name": "stdout",
     "output_type": "stream",
     "text": [
      "Enter the total number of rows :2\n",
      "Star Pattern Right Angled Triangular with 2 rows : \n",
      "*\n",
      "**\n"
     ]
    }
   ],
   "source": [
    "# 8) Displays stars(*) in right angled triangular\n",
    "\n",
    "rows = abs(int(input('Enter the total number of rows :')))\n",
    "print(f'Star Pattern Right Angled Triangular with {rows} rows : ')\n",
    "for i in range(rows):   # Iterate through total number of rows\n",
    "    for j in range(i+1):  # Iterate through total number of columns based on row condition\n",
    "        print('*', end= '')\n",
    "    print()"
   ]
  },
  {
   "cell_type": "code",
   "execution_count": 11,
   "metadata": {},
   "outputs": [
    {
     "name": "stdout",
     "output_type": "stream",
     "text": [
      "Enter the starting Number: 2\n",
      "Enter the Ending Number: 10\n",
      "2 4 6 8 10 "
     ]
    }
   ],
   "source": [
    "# 9) Display even numbers between m and n accept the values through input for m and n\n",
    "\n",
    "m = int(input('Enter the starting Number: '))\n",
    "n = int(input('Enter the Ending Number: '))\n",
    "if n <= m:  # Checks whether the ending number is greater than starting number\n",
    "    print(f'Enter the value which is greater than start number {m}')\n",
    "    n = int(input('Enter the Ending Number: '))\n",
    "else:\n",
    "    pass\n",
    "for num in range(m, n + 1):  # iterate through the numbers between starting and ending number\n",
    "    if num % 2 == 0:  # Checks number divisible by 2 whose reminder is 0\n",
    "        print(num, end= ' ') # Print the numbers in same line\n",
    "    else:\n",
    "        pass"
   ]
  },
  {
   "cell_type": "code",
   "execution_count": 16,
   "metadata": {},
   "outputs": [
    {
     "name": "stdout",
     "output_type": "stream",
     "text": [
      "The reverse letter of the string fruit is :\n",
      "t\n",
      "i\n",
      "u\n",
      "r\n",
      "f\n"
     ]
    }
   ],
   "source": [
    "# 10) printing each letter on a separate line, except backwards.\n",
    "\n",
    "str = 'fruit'\n",
    "index = len(str) - 1 # brings total number of characters in a string\n",
    "print('The reverse letter of the string fruit is :')\n",
    "while index >= 0:  # loops till it's equal to zero i.e from 4 to 0  \n",
    "    letter = str[index]  # characters of string in backward gets assisgned to a letter variable\n",
    "    print(letter)  \n",
    "    index = index - 1  # decrement the total number by 1"
   ]
  },
  {
   "cell_type": "code",
   "execution_count": null,
   "metadata": {},
   "outputs": [],
   "source": []
  }
 ],
 "metadata": {
  "kernelspec": {
   "display_name": "Python 3",
   "language": "python",
   "name": "python3"
  },
  "language_info": {
   "codemirror_mode": {
    "name": "ipython",
    "version": 3
   },
   "file_extension": ".py",
   "mimetype": "text/x-python",
   "name": "python",
   "nbconvert_exporter": "python",
   "pygments_lexer": "ipython3",
   "version": "3.7.6"
  }
 },
 "nbformat": 4,
 "nbformat_minor": 4
}
