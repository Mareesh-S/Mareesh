{
 "cells": [
  {
   "cell_type": "code",
   "execution_count": 3,
   "metadata": {},
   "outputs": [
    {
     "name": "stdout",
     "output_type": "stream",
     "text": [
      "2\n",
      "5\n"
     ]
    }
   ],
   "source": [
    "# 1) Write a function that returns the lesser of two given numbers if both numbers are even, \n",
    "# but returns the greater if one or both numbers are odd lesser_of_two_evens(2,4) --> 2 lesser_of_two_evens(2,5) --> 5\n",
    "\n",
    "def num_even_odd(num1,num2): #function will take two input and will return int value\n",
    "    '''\n",
    "    function that returns the lesser of two given numbers if both numbers are even\n",
    "    but returns the greater if one or both numbers are odd\n",
    "    '''\n",
    "    if num1%2 == 0 and num2%2 == 0:\n",
    "        return min(num1,num2)\n",
    "    else:\n",
    "        return max(num1,num2)\n",
    "            \n",
    "print(num_even_odd(2,4))\n",
    "print(num_even_odd(2,5))"
   ]
  },
  {
   "cell_type": "code",
   "execution_count": 23,
   "metadata": {},
   "outputs": [
    {
     "name": "stdout",
     "output_type": "stream",
     "text": [
      "True\n",
      "False\n"
     ]
    }
   ],
   "source": [
    "# 2) Write a function takes a two-word string and \n",
    "# returns True if both words begin with same letter animal_crackers('Levelheaded Llama') --> True \n",
    "# animal_crackers('Crazy Kangaroo') --> False\n",
    "\n",
    "def animal_crackers(string): #function will take string and return boolean value\n",
    "    '''\n",
    "    function takes a two-word string\n",
    "    returns True if both words begin with same letter\n",
    "    else returns false\n",
    "    '''\n",
    "    return string.split()[0][0] == string.split()[1][0]\n",
    "    \n",
    "print(animal_crackers('Levelheaded Llama'))\n",
    "print(animal_crackers('Crazy Kangaroo'))"
   ]
  },
  {
   "cell_type": "code",
   "execution_count": 26,
   "metadata": {},
   "outputs": [
    {
     "name": "stdout",
     "output_type": "stream",
     "text": [
      "True\n",
      "True\n",
      "False\n"
     ]
    }
   ],
   "source": [
    "# 3) Given two integers, return True if the sum of the integers is 20 or \n",
    "# if one of the integers is 20. If not, return False\n",
    "\n",
    "def makes_twenty(a,b): #function will take two int values and return boolean value\n",
    "    '''\n",
    "    return True if the sum of the integers is 20 or if one of the integers is 20\n",
    "    else return false\n",
    "    '''\n",
    "    if a + b == 20 or a == 20 or b == 20:\n",
    "        return True\n",
    "    else:\n",
    "        return False\n",
    "    \n",
    "print(makes_twenty(20,10))\n",
    "print(makes_twenty(12,8))\n",
    "print(makes_twenty(2,3))"
   ]
  },
  {
   "cell_type": "code",
   "execution_count": 28,
   "metadata": {},
   "outputs": [
    {
     "name": "stdout",
     "output_type": "stream",
     "text": [
      "MacDonald\n",
      "school at am I\n",
      "home am I\n",
      "ready are We\n",
      "school at am I\n",
      "home am I\n",
      "ready are We\n"
     ]
    }
   ],
   "source": [
    "# 4) Write a function that capitalizes the first and fourth letters of a name\n",
    "\n",
    "def old_macdonald(name):\n",
    "    '''\n",
    "    capitalize the first and fourth letters of a name\n",
    "    '''\n",
    "    return name[0].upper() + name[1:3] + name[3].upper() + name[4:]\n",
    "    \n",
    "\n",
    "print(old_macdonald('macdonald'))\n",
    "\n",
    "# Given a sentence, return a sentence with the words reversed\n",
    "# Method 1\n",
    "\n",
    "def master_yoda(text):\n",
    "    '''\n",
    "    return a sentence with the words reversed\n",
    "    using slicing to reverse a string will not affect the original string order\n",
    "    '''\n",
    "    lst=text.split() # split function seperate the statement into words in a list Eg: ['I', 'am', 'at', 'school']\n",
    "    lst_to_string = \" \".join(lst[::-1])  # slicing done here will reverse the string as eg: ['school', 'at', 'am', 'I'] \n",
    "                                        # amd join is used to convert list to string with some connector string\n",
    "    return lst_to_string\n",
    "\n",
    "print(master_yoda(\"I am at school\"))\n",
    "print(master_yoda('I am home'))\n",
    "print(master_yoda(\"We are ready\"))\n",
    "\n",
    "# Method 2\n",
    "\n",
    "def master_yoda(text):\n",
    "    '''\n",
    "    using reverse() will change the original string permanently\n",
    "    '''\n",
    "    str=text.split()\n",
    "    str.reverse() \n",
    "    return ' '.join(str)\n",
    "\n",
    "print(master_yoda(\"I am at school\"))\n",
    "print(master_yoda('I am home'))\n",
    "print(master_yoda(\"We are ready\"))"
   ]
  },
  {
   "cell_type": "code",
   "execution_count": 32,
   "metadata": {},
   "outputs": [
    {
     "name": "stdout",
     "output_type": "stream",
     "text": [
      "True\n",
      "True\n",
      "False\n",
      "True\n",
      "True\n",
      "True\n",
      "False\n",
      "True\n"
     ]
    }
   ],
   "source": [
    "# 5) Given an integer n, return True if n is within 10 of either 100 or 200\n",
    "\n",
    "# Method 1\n",
    "\n",
    "def almost_there(n):\n",
    "    '''\n",
    "    range here holds the starting and ending number + 1(here it will take the ending number before the entered value)\n",
    "    '''\n",
    "    if n in range(90,111):\n",
    "        return True\n",
    "    elif n in range(190,211):\n",
    "        return True\n",
    "    else:\n",
    "        return False\n",
    "\n",
    "print(almost_there(90))\n",
    "print(almost_there(104))\n",
    "print(almost_there(150))\n",
    "print(almost_there(209))\n",
    "\n",
    "# Method 2\n",
    "\n",
    "def almost_there(n):\n",
    "    return abs(100-n) <=10 or abs(200-n) <= 10\n",
    "    \n",
    "print(almost_there(94))\n",
    "print(almost_there(104))\n",
    "print(almost_there(150))\n",
    "print(almost_there(209))"
   ]
  },
  {
   "cell_type": "code",
   "execution_count": 110,
   "metadata": {},
   "outputs": [
    {
     "name": "stdout",
     "output_type": "stream",
     "text": [
      "True\n",
      "False\n",
      "False\n"
     ]
    }
   ],
   "source": [
    "# 6) Given a list of ints, return True if the array contains a 3 next to a 3 somewhere.\n",
    "\n",
    "def check_num_has_33(value):\n",
    "    for i in range(0,len(value)-1): # iterate through length of entered number\n",
    "        if (value[i]==3 and value[i+1] == 3): # checking index and its next index has value of 3.\n",
    "            return True                     # if both condition satisfies then returns true \n",
    "    return False\n",
    "            \n",
    "print(check_num_has_33([1, 3, 3]))\n",
    "print(check_num_has_33([1, 3, 1, 3]))\n",
    "print(check_num_has_33([3, 1, 3]))\n"
   ]
  },
  {
   "cell_type": "code",
   "execution_count": 10,
   "metadata": {},
   "outputs": [
    {
     "name": "stdout",
     "output_type": "stream",
     "text": [
      "HHHeeellllllooo\n",
      "MMMiiissssssiiissssssiiippppppiii\n",
      "HHHeeellllllooo\n",
      "MMMiiissssssiiissssssiiippppppiii\n"
     ]
    }
   ],
   "source": [
    "# 7) Given a string, return a string where for every character in the original there are three characters\n",
    "\n",
    "# Method 1\n",
    "def paper_doll(text):\n",
    "    '''\n",
    "    return a string where for every character in the original there are three characters\n",
    "    '''\n",
    "    new_text = \"\"  # created a variable to store the resultant string\n",
    "    result =  ''.join((i*3) for i in text)\n",
    "    return result    \n",
    "\n",
    "print(paper_doll('Hello'))\n",
    "print(paper_doll('Mississippi'))\n",
    "\n",
    "# Alternate Method\n",
    "\n",
    "def paper_doll(text):\n",
    "    new_text = \"\"  # created a variable to store the resultant string\n",
    "    new_text = \"\"  # created a variable to store the resultant string\n",
    "    for i in text: # iterate through the text\n",
    "        new_text += i*3 #Every iterate gets trippled and stored in new variable\n",
    "    return new_text\n",
    "print(paper_doll('Hello'))\n",
    "print(paper_doll('Mississippi'))"
   ]
  },
  {
   "cell_type": "code",
   "execution_count": 59,
   "metadata": {},
   "outputs": [
    {
     "name": "stdout",
     "output_type": "stream",
     "text": [
      "18\n",
      "BUST\n",
      "19\n"
     ]
    }
   ],
   "source": [
    "# 8) Given three integers between 1 and 11, if their sum is less than or equal to 21, return their sum. \n",
    "# If their sum exceeds 21 and there's an eleven, reduce the total sum by 10. \n",
    "# Finally, if the sum (even after adjustment) exceeds 21, return 'BUST'\n",
    "\n",
    "def blackjack(a,b,c):\n",
    "    '''\n",
    "    Check among numbers \n",
    "    '''\n",
    "    \n",
    "    if a+b+c <= 21:\n",
    "        return a+b+c\n",
    "    if a == 11 or b == 11 or c == 11:\n",
    "        return (a+b+c)-10\n",
    "    else:\n",
    "        return 'BUST'\n",
    "      \n",
    "\n",
    "print(blackjack(5,6,7))\n",
    "print(blackjack(9,9,9))\n",
    "print(blackjack(9,9,11))"
   ]
  },
  {
   "cell_type": "code",
   "execution_count": 84,
   "metadata": {},
   "outputs": [
    {
     "name": "stdout",
     "output_type": "stream",
     "text": [
      "9\n",
      "9\n",
      "14\n"
     ]
    }
   ],
   "source": [
    "# 9) Return the sum of the numbers in the array, except ignore sections of numbers starting with a 6 \n",
    "# and extending to the next 9 (every 6 will be followed by at least one 9). Return 0 for no numbers.\n",
    "\n",
    "\n",
    "def summer_69(arr): \n",
    "    '''\n",
    "    if the current num is less than 6 and 9 adding the numbers\n",
    "    '''\n",
    "    Sum=0\n",
    "    for n in range(0, len(arr)):\n",
    "        if arr[n]<6:\n",
    "            Sum+=arr[n]\n",
    "        elif arr[n]>9:\n",
    "            Sum+=arr[n]\n",
    "        else:\n",
    "            pass\n",
    "            \n",
    "    return Sum\n",
    "\n",
    "print(summer_69([1, 3, 5]))\n",
    "print(summer_69([4, 5, 6, 7, 8, 9]))\n",
    "print(summer_69([2, 1, 6, 9, 11]))"
   ]
  },
  {
   "cell_type": "code",
   "execution_count": 111,
   "metadata": {},
   "outputs": [
    {
     "name": "stdout",
     "output_type": "stream",
     "text": [
      "True\n",
      "False\n",
      "False\n"
     ]
    }
   ],
   "source": [
    "# 10) Write a function that takes in a list of integers and returns True if it contains 007 in order\n",
    "def spy_game(nums):\n",
    "\n",
    "    for i in range(0,len(nums)-1):\n",
    "        if nums[i] == 0 and nums[i + 1] == 0 and nums[i+2]==7:\n",
    "            return True\n",
    "    return False\n",
    "        \n",
    "\n",
    "print(spy_game([1,2,4,0,0,7,5]))\n",
    "print(spy_game([1,0,2,4,0,5,7]))\n",
    "print(spy_game([1,7,2,0,4,5,0]))"
   ]
  },
  {
   "cell_type": "code",
   "execution_count": 95,
   "metadata": {},
   "outputs": [
    {
     "name": "stdout",
     "output_type": "stream",
     "text": [
      "25\n",
      "None\n"
     ]
    }
   ],
   "source": [
    "# 11) Write a function that returns the number of prime numbers that exist up to \n",
    "# and including a given number count_primes(100) --> 25\n",
    "\n",
    "#By convention, 0 and 1 are not prime.\n",
    "\n",
    "def count_primes(num):\n",
    "    '''\n",
    "     if the value is divisible by any of the num itself then it's not prime\n",
    "    '''\n",
    "    count = 0\n",
    "    if num > 1:\n",
    "        for val in range(2, num):\n",
    "            for i in range(2, val):\n",
    "                if val % i == 0:  # if the value is divisible by any of the num itself then it's not prime\n",
    "                    break\n",
    "            else:\n",
    "                count += 1\n",
    "        print(count)\n",
    "    else:\n",
    "        pass\n",
    "        \n",
    "\n",
    "print(count_primes(100))\n"
   ]
  },
  {
   "cell_type": "code",
   "execution_count": 1,
   "metadata": {},
   "outputs": [
    {
     "name": "stdout",
     "output_type": "stream",
     "text": [
      "  *  \n",
      " * * \n",
      "*****\n",
      "*   *\n",
      "*   *\n",
      "**** \n",
      "*   *\n",
      "*****\n",
      "*   *\n",
      "****\n",
      "*****\n",
      "*\n",
      "*\n",
      "*\n",
      "*****\n",
      "****\n",
      "*   *\n",
      "*   *\n",
      "*   *\n",
      "****\n",
      "*****\n",
      "*\n",
      "****\n",
      "*\n",
      "*****\n"
     ]
    }
   ],
   "source": [
    "# 12) Write a function that takes in a single letter, and returns a 5x5 representation of that letter print_big('a')\n",
    "\n",
    "# HINT: Consider making a dictionary of possible patterns, and mapping the alphabet to specific 5-line \n",
    "# combinations of patterns. For purposes of this exercise, it's ok if your dictionary stops at \"E\".\n",
    "\n",
    "def print_big(letter):\n",
    "  letera_a = \"  *  \\n * * \\n*****\\n*   *\\n*   *\"\n",
    "  letera_b = \"**** \\n*   *\\n*****\\n*   *\\n****\"\n",
    "  letera_c = \"*****\\n*\\n*\\n*\\n*****\"\n",
    "  letera_d = \"****\\n*   *\\n*   *\\n*   *\\n****\"\n",
    "  letera_e = \"*****\\n*\\n****\\n*\\n*****\"\n",
    "\n",
    "  dict = {'a': letera_a, 'b':letera_b, 'c':letera_c, 'd':letera_d, 'e':letera_e}\n",
    "  \n",
    "  print(dict[letter.lower()])\n",
    "\n",
    "print_big('a')\n",
    "print_big('b')\n",
    "print_big('c')\n",
    "print_big('d')\n",
    "print_big('e')\n"
   ]
  },
  {
   "cell_type": "code",
   "execution_count": 107,
   "metadata": {},
   "outputs": [
    {
     "name": "stdout",
     "output_type": "stream",
     "text": [
      "No. of Upper case characters : 4,No. of Lower case characters : 33\n"
     ]
    }
   ],
   "source": [
    "# 13) Write a Python function that accepts a string \n",
    "# and calculates the number of upper case letters and lower case letters.\n",
    "\n",
    "def count_upper_lower_case(string):\n",
    "    lower_case_count = sum(i.islower() for i in string)\n",
    "    upper_case_count = sum(i.isupper() for i in string)\n",
    "    print( \"No. of Upper case characters : %s,No. of Lower case characters : %s\" % (upper_case_count,lower_case_count))\n",
    "\n",
    "count_upper_lower_case(\"Hello Mr. Rogers, how are you this fine Tuesday?\")\n",
    "        "
   ]
  },
  {
   "cell_type": "code",
   "execution_count": 21,
   "metadata": {},
   "outputs": [
    {
     "name": "stdout",
     "output_type": "stream",
     "text": [
      "The unique values from input list [1, 1, 1, 1, 2, 2, 3, 3, 3, 3, 4, 5] is : \n",
      "[1, 2, 3, 4, 5]\n"
     ]
    },
    {
     "data": {
      "text/plain": [
       "{1, 2, 3, 4, 5}"
      ]
     },
     "execution_count": 21,
     "metadata": {},
     "output_type": "execute_result"
    }
   ],
   "source": [
    "# 14) Write a Python function that takes a list and returns a new list with unique elements of the first list.\n",
    "\n",
    "# Method 1\n",
    "def print_unique_list(input_list):\n",
    "    new_list =[]  # created a new list\n",
    "    for i in input_list: # iterate over the entered input list\n",
    "        if i not in new_list: # checking if the input list is not in newly created list\n",
    "            new_list.append(i) # if condition gets satisfies then append the values to the newly created list\n",
    "    return print(new_list)\n",
    "\n",
    "input_list = [1,1,1,1,2,2,3,3,3,3,4,5] \n",
    "print(f\"The unique values from input list {input_list} is : \") \n",
    "print_unique_list(input_list) \n",
    "\n",
    "# Method 2\n",
    "\n",
    "def print_unique_list(input_list):\n",
    "    return set(input_list)\n",
    "       \n",
    "input_list = [1,1,1,1,2,2,3,3,3,3,4,5] \n",
    "print_unique_list(input_list)\n",
    "\n"
   ]
  },
  {
   "cell_type": "code",
   "execution_count": 27,
   "metadata": {},
   "outputs": [
    {
     "name": "stdout",
     "output_type": "stream",
     "text": [
      "The result of multiplying all  numbers in a list [1, 1, 1, 1, 2, 2, 3, 3, 3, 3, 4, 5] is : \n",
      "6480\n"
     ]
    }
   ],
   "source": [
    "# 14) Write a Python function to multiply all the numbers in a list.\n",
    "\n",
    "def multiply_nums_in_list(lst):\n",
    "    result = 1\n",
    "    for i in lst:\n",
    "        result *= i\n",
    "    return print(result)\n",
    "\n",
    "lst = [1,1,1,1,2,2,3,3,3,3,4,5] \n",
    "print(f\"The result of multiplying all  numbers in a list {lst} is : \") \n",
    "multiply_nums_in_list(lst) "
   ]
  },
  {
   "cell_type": "code",
   "execution_count": 28,
   "metadata": {},
   "outputs": [
    {
     "name": "stdout",
     "output_type": "stream",
     "text": [
      "True\n"
     ]
    }
   ],
   "source": [
    "# 15) Write a Python function to check whether a string is pangram or not.\n",
    "# Note : Pangrams are words or sentences containing every letter of the alphabet at least once.\n",
    "\n",
    "def ispangrams(string):\n",
    "    alphabets = \"abcdefghijklmnopqrstuvwxyz\"  # defining alphabets with all alphabets\n",
    "    for char in alphabets: # checking every letter is present in alp.\n",
    "        if char not in string.lower(): # string.lower() to avoid case difference\n",
    "            return False  # return false if it fails\n",
    "    return True   # return only if all alphabets is present in string\n",
    "        \n",
    "print(ispangrams(\"The quick brown fox jumps over the lazy dog\"))"
   ]
  },
  {
   "cell_type": "code",
   "execution_count": null,
   "metadata": {},
   "outputs": [],
   "source": []
  }
 ],
 "metadata": {
  "kernelspec": {
   "display_name": "Python 3",
   "language": "python",
   "name": "python3"
  },
  "language_info": {
   "codemirror_mode": {
    "name": "ipython",
    "version": 3
   },
   "file_extension": ".py",
   "mimetype": "text/x-python",
   "name": "python",
   "nbconvert_exporter": "python",
   "pygments_lexer": "ipython3",
   "version": "3.7.6"
  }
 },
 "nbformat": 4,
 "nbformat_minor": 4
}
