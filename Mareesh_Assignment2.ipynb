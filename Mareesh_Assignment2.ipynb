{
 "cells": [
  {
   "cell_type": "code",
   "execution_count": 1,
   "metadata": {},
   "outputs": [
    {
     "name": "stdout",
     "output_type": "stream",
     "text": [
      "The binary number of 1024 is:  0b10000000000\n",
      "The binary number of 1024 is:  0x400\n"
     ]
    }
   ],
   "source": [
    "# 1) Convert 1024 to binary and hexadecimal representation\n",
    "\n",
    "a = 1024\n",
    "print(\"The binary number of %d is: \" %a, bin(a))\n",
    "print(\"The binary number of {} is: \".format(a), hex(a))"
   ]
  },
  {
   "cell_type": "code",
   "execution_count": 2,
   "metadata": {},
   "outputs": [
    {
     "name": "stdout",
     "output_type": "stream",
     "text": [
      "The round of 5.23222 to two decimal places is:  5.23\n"
     ]
    }
   ],
   "source": [
    "# 2) Round 5.23222 to two decimal places\n",
    "\n",
    "b = 5.23222\n",
    "print(\"The round of 5.23222 to two decimal places is: \", round(b, 2))"
   ]
  },
  {
   "cell_type": "code",
   "execution_count": 3,
   "metadata": {},
   "outputs": [
    {
     "name": "stdout",
     "output_type": "stream",
     "text": [
      "The character of the string is not in lower case\n"
     ]
    }
   ],
   "source": [
    "# 3) Check if every letter in the string s is lower case\n",
    "\n",
    "s = 'hello how are you Mary, are you feeling okay?'\n",
    "if s.islower():\n",
    "    print(\"All Characters in the string is lower case\")\n",
    "else:\n",
    "    print(\"The character of the string is not in lower case\")"
   ]
  },
  {
   "cell_type": "code",
   "execution_count": 4,
   "metadata": {},
   "outputs": [
    {
     "name": "stdout",
     "output_type": "stream",
     "text": [
      "Count of 'w' in twywywtwywbwhsjhwuwshshwuwwwjdjdid is :  12\n"
     ]
    }
   ],
   "source": [
    "# 4) How many times does the letter 'w' show up in the string below?\n",
    "\n",
    "s = 'twywywtwywbwhsjhwuwshshwuwwwjdjdid'\n",
    "print(\"Count of 'w' in %s is : \"%s,s.count('w'))"
   ]
  },
  {
   "cell_type": "code",
   "execution_count": 5,
   "metadata": {},
   "outputs": [
    {
     "name": "stdout",
     "output_type": "stream",
     "text": [
      "The reverse of the list [1, 2, 3, 4] is:  [4, 3, 2, 1]\n",
      "[1, 2, 3, 4]\n",
      "The reverse of the list [1,2,3,4] is:  [4, 3, 2, 1]\n",
      "[4, 3, 2, 1]\n"
     ]
    }
   ],
   "source": [
    "# 5) Reverse the list\n",
    "\n",
    "list1 = [1,2,3,4]\n",
    "print(\"The reverse of the list {} is: \" .format(list1), list1[::-1])\n",
    "print(list1)\n",
    "\n",
    "# Alternate method. After reverse method list order gets changed permanently\n",
    "list1.reverse()\n",
    "print(\"The reverse of the list [1,2,3,4] is: \", list1)\n",
    "print(list1)"
   ]
  },
  {
   "cell_type": "code",
   "execution_count": 6,
   "metadata": {},
   "outputs": [
    {
     "name": "stdout",
     "output_type": "stream",
     "text": [
      "The sort of the list [3,4,2,5,1] is:  [1, 2, 3, 4, 5]\n",
      "[1, 2, 3, 4, 5]\n"
     ]
    }
   ],
   "source": [
    "# 6) Sort the list\n",
    "\n",
    "list2 = [3,4,2,5,1]\n",
    "list2.sort()\n",
    "print(\"The sort of the list [3,4,2,5,1] is: \", list2)\n",
    "print(list2)  # After sorting the list order gets changed permanently"
   ]
  },
  {
   "cell_type": "code",
   "execution_count": 1,
   "metadata": {},
   "outputs": [
    {
     "name": "stdout",
     "output_type": "stream",
     "text": [
      "GUESS ME!\n",
      "There's a guessed number between 1 and 100\n",
      "If your guess is within 10 of the guessed number, I'll display you're WARM\n",
      "If your guess is more than 10 away from the guessed number, I'll display you're COLD\n",
      "If your guess is closer than your most recent guess, I'll display you're WARMER\n",
      "If your guess is farther than your most recent guess, I'll display you're COLDER\n",
      "Let's Play!\n",
      "Enter a number that you guess between 1 to 100: 20\n",
      "COLD!\n",
      "Enter a number that you guess between 1 to 100: 40\n",
      "Warmer: You are closer now than before\n",
      "Enter a number that you guess between 1 to 100: 45\n",
      "Colder: You are farther away now than before\n",
      "Enter a number that you guess between 1 to 100: 35\n",
      "Warmer: You are closer now than before\n",
      "Enter a number that you guess between 1 to 100: 36\n",
      "Colder: You are farther away now than before\n",
      "Enter a number that you guess between 1 to 100: 34\n",
      "Warmer: You are closer now than before\n",
      "Enter a number that you guess between 1 to 100: 30\n",
      "Colder: You are farther away now than before\n",
      "Enter a number that you guess between 1 to 100: 32\n",
      "Warmer: You are closer now than before\n",
      "Enter a number that you guess between 1 to 100: 31\n",
      "Colder: You are farther away now than before\n",
      "Enter a number that you guess between 1 to 100: 33\n",
      "WON! You've guessed the number in 10 guesses\n"
     ]
    }
   ],
   "source": [
    "# 7) Based on rules, Write a program that picks a random integer from 1 to 100, and has players guess the number.\n",
    "\n",
    "import random\n",
    "num = random.randint(1, 100)\n",
    "#print(num) #Displays the secret number number\n",
    "print(\"GUESS ME!\")\n",
    "print(\"There's a guessed number between 1 and 100\")\n",
    "print(\"If your guess is within 10 of the guessed number, I'll display you're WARM\")\n",
    "print(\"If your guess is more than 10 away from the guessed number, I'll display you're COLD\")\n",
    "print(\"If your guess is closer than your most recent guess, I'll display you're WARMER\")\n",
    "print(\"If your guess is farther than your most recent guess, I'll display you're COLDER\")\n",
    "print(\"Let's Play!\")\n",
    "\n",
    "guesses = [0]  # Created list to store the guesses\n",
    "while True:     # loop until correct:\n",
    "    guess = abs(int(input(\"Enter a number that you guess between 1 to 100: \")))\n",
    "    if guess < 1 or guess > 100:\n",
    "        print('Out of Bounds! Please Try Again')\n",
    "        continue\n",
    "    if guess == num:\n",
    "        print(\"WON! You've guessed the number in %d guesses\" % (len(guesses)))\n",
    "        break\n",
    "    guesses.append(guess)  # Adding current guess to the list\n",
    "\n",
    "    if guesses[-2]:     # After appending all new guesses to the list, then the previous guess is given as guesses[-2]\n",
    "        if abs(num-guess) < abs(num-guesses[-2]):   # checks current guess diff < prev guess diff\n",
    "            print(\"Warmer: You are closer now than before\")\n",
    "        else:\n",
    "            print(\"Colder: You are farther away now than before\")\n",
    "    else:\n",
    "        if num-guess <= 10:\n",
    "            print('WARM!')\n",
    "        else:\n",
    "            print('COLD!')"
   ]
  },
  {
   "cell_type": "code",
   "execution_count": null,
   "metadata": {},
   "outputs": [],
   "source": []
  }
 ],
 "metadata": {
  "kernelspec": {
   "display_name": "Python 3",
   "language": "python",
   "name": "python3"
  },
  "language_info": {
   "codemirror_mode": {
    "name": "ipython",
    "version": 3
   },
   "file_extension": ".py",
   "mimetype": "text/x-python",
   "name": "python",
   "nbconvert_exporter": "python",
   "pygments_lexer": "ipython3",
   "version": "3.7.6"
  }
 },
 "nbformat": 4,
 "nbformat_minor": 4
}
