{
 "cells": [
  {
   "cell_type": "code",
   "execution_count": 1,
   "metadata": {},
   "outputs": [
    {
     "name": "stdout",
     "output_type": "stream",
     "text": [
      "The resulting words in alphabetical order is: \n",
      " ['Arise', 'But', 'It', 'Juliet', 'Who', 'already', 'and', 'breaks', 'east', 'envious', 'fair', 'grief', 'is', 'kill', 'light', 'moon', 'pale', 'sick', 'soft', 'sun', 'the', 'through', 'what', 'window', 'with', 'yonder']\n"
     ]
    }
   ],
   "source": [
    "# 1) [Arise But It Juliet Who already and breaks east envious fair grief is kill light moon pale \n",
    "# sick soft sun the through what window with yonder]\n",
    "# Write a program to read all the lines or entire data in the object, and split into a list of words .\n",
    "# For each word, check to see if the word is already in a list.\n",
    "# If the word is not in the list, add it to the list, so at the end we need to get the list which has all unique words only\n",
    "# When the program completes, sort and print the resulting words in alphabetical order.\n",
    "\n",
    "str = \"Arise But It Juliet Who already and breaks east envious fair grief is kill light moon pale sick soft sun the through what window with yonder\"\n",
    "lst = list()     # created a list\n",
    "word = str.split()  # It will return list of words from input string\n",
    "for element in word: \n",
    "    if element not in lst:     # Checks for unique element \n",
    "        lst.append(element)    # Append elements to the created list which occurs only one time\n",
    "print('The resulting words in alphabetical order is: \\n', sorted(lst))"
   ]
  },
  {
   "cell_type": "code",
   "execution_count": 2,
   "metadata": {},
   "outputs": [
    {
     "name": "stdout",
     "output_type": "stream",
     "text": [
      "The result of the sorted dictionary holds the key as the word and the value as the count of the words is: \n",
      " {'Arise': 1, 'But': 1, 'It': 1, 'Juliet': 1, 'Who': 1, 'already': 1, 'and': 1, 'breaks': 1, 'east': 1, 'envious': 1, 'fair': 1, 'grief': 1, 'is': 1, 'kill': 1, 'light': 1, 'moon': 1, 'pale': 1, 'sick': 1, 'soft': 1, 'sun': 1, 'the': 1, 'through': 1, 'what': 1, 'window': 1, 'with': 1, 'yonder': 1}\n"
     ]
    }
   ],
   "source": [
    "# 2) Using the same data provided in Problem1 ,create a dictonary , \n",
    "# perform the same operation like splitting the line in to words\n",
    "# and check each word , if it is not present then add to the dictionary , \n",
    "# if it is present then increment the count of the word added. \n",
    "# Then sort the dictonary and display the words So at the end the dictionary ,\n",
    "# should be sorted and should have key as the word and the value as the count of the words\n",
    "\n",
    "string = \"Arise But It Juliet Who already and breaks east envious fair grief is kill light moon pale sick soft sun the through what window with yonder\"\n",
    "counts = dict()\n",
    "words = string.split()\n",
    "for word in words:\n",
    "    if word not in counts:      # It checks whether the word is not present in dictionary\n",
    "        counts[word] = 1        # If the word(i.e key) is not present in dictionary then count is assigned to 1\n",
    "    else:\n",
    "        counts[word] += 1       # counts get incremented\n",
    "print('The result of the sorted dictionary holds the key as the word and the value as the count of the words is: \\n', counts)"
   ]
  },
  {
   "cell_type": "code",
   "execution_count": 3,
   "metadata": {},
   "outputs": [
    {
     "name": "stdout",
     "output_type": "stream",
     "text": [
      "For the specified string, stephen.marquard@uct.ac.za Sat Jan 5 09:14:16 2008 \n",
      " The result of retrieving time and display separately is :  09:14:16\n"
     ]
    }
   ],
   "source": [
    "# 3) For the specified string , retrive time and display separately\n",
    "\n",
    "line = \"stephen.marquard@uct.ac.za Sat Jan 5 09:14:16 2008\"\n",
    "nline = line.split()\n",
    "l = nline[4]\n",
    "new = l.split()\n",
    "new = new[0]\n",
    "print(f'For the specified string, {line} \\n The result of retrieving time and display separately is : ', new)"
   ]
  },
  {
   "cell_type": "code",
   "execution_count": 4,
   "metadata": {},
   "outputs": [
    {
     "name": "stdout",
     "output_type": "stream",
     "text": [
      "How many numbers you want to print? :3\n",
      "Enter the number: 2\n",
      "Enter the number: 1\n",
      "Enter the number: 6\n",
      "The entered numbers in List is :  [2, 1, 6]\n",
      "The Average of the List [2, 1, 6] is : 3.00\n"
     ]
    }
   ],
   "source": [
    "# 4) Write a program to read different values from the user and convert all the values received in to list \n",
    "# and then compute average of all the values and display the output\n",
    "\n",
    "lst = []\n",
    "sum = 0\n",
    "total = int(input(\"How many numbers you want to print? :\"))\n",
    "for t in range(0, total):\n",
    "    num = int(input(\"Enter the number: \"))\n",
    "    lst.append(num)     # adding the element\n",
    "print(\"The entered numbers in List is : \", lst)\n",
    "for iterate in lst:  # Itereate through the input list formed\n",
    "    sum = sum + iterate  # Summing up values in the list\n",
    "    avg = sum/len(lst)  # the resulatant sum is divided by the total number of elements in the list\n",
    "print(\"The Average of the List %s is : %.2f\" % (lst, avg))"
   ]
  },
  {
   "cell_type": "code",
   "execution_count": 5,
   "metadata": {},
   "outputs": [
    {
     "name": "stdout",
     "output_type": "stream",
     "text": [
      "The students belongs to exam = {'Emily', 'Sue', 'Kirsty', 'Andrew', 'Beth'} and project = {'Ian', 'Emily', 'Kirsty', 'Stuart'}\n",
      "The students took both the exam and submitted a project : \n",
      " {'Emily', 'Kirsty'}\n",
      "The students only took the exam : \n",
      " {'Andrew', 'Sue', 'Beth'}\n",
      "The students only submitted the project : \n",
      " {'Ian', 'Stuart'}\n",
      "The students who took either (or both) of the exam and the project : \n",
      " {'Emily', 'Sue', 'Kirsty', 'Andrew', 'Ian', 'Beth', 'Stuart'}\n",
      "The students who took either (but not both) of the exam and the project : \n",
      " {'Sue', 'Ian', 'Andrew', 'Beth', 'Stuart'}\n"
     ]
    }
   ],
   "source": [
    "# 3) Create two sets of students, one for those who took an exam and one for those that submitted a project.\n",
    "# simple strings is used to represent the students\n",
    "# Set up sets\n",
    "# exam = {'Andrew', 'Kirsty', 'Beth', 'Emily', 'Sue'}\n",
    "# project = {'Kirsty', 'Emily', 'Ian', 'Stuart'}\n",
    "# Using these sets write the code using different set methods to show the below following question functionalities:\n",
    "# • Which students took both the exam and submitted a project?\n",
    "# • Which students only took the exam?\n",
    "# • Which students only submitted the project?\n",
    "# • List all students who took either (or both) of the exam and the project.\n",
    "# • List all students who took either (but not both) of the exam and the project.\n",
    "\n",
    "exam = {'Andrew', 'Kirsty', 'Beth', 'Emily', 'Sue'}\n",
    "project = {'Kirsty', 'Emily', 'Ian', 'Stuart'}\n",
    "\n",
    "print(f\"The students belongs to exam = {exam} and project = {project}\")\n",
    "print(\"The students took both the exam and submitted a project : \\n\", exam.intersection(project))\n",
    "print(\"The students only took the exam : \\n\", exam.difference(project))\n",
    "print(\"The students only submitted the project : \\n\", project.difference(exam))\n",
    "print(\"The students who took either (or both) of the exam and the project : \\n\", exam.union(project))\n",
    "print(\"The students who took either (but not both) of the exam and the project : \\n\", exam.symmetric_difference(project))"
   ]
  },
  {
   "cell_type": "code",
   "execution_count": 6,
   "metadata": {},
   "outputs": [
    {
     "name": "stdout",
     "output_type": "stream",
     "text": [
      "Enter the temperature in Celsius: 23\n",
      "Entered temperature 23.00 in Celsius is converted to 73.40 in Fahrenheit \n"
     ]
    }
   ],
   "source": [
    "# 6) Write program to receive the input of temperature in celsius and convert it into fahrenheit\n",
    "\n",
    "value = float(input(\"Enter the temperature in Celsius: \"))\n",
    "res = (value * 9/5) + 32    # celsius * 1.8 = fahrenheit - 32 #general formula\n",
    "print(\"Entered temperature %.2f in Celsius is converted to %.2f in Fahrenheit \"%(value, res))"
   ]
  },
  {
   "cell_type": "code",
   "execution_count": 7,
   "metadata": {},
   "outputs": [
    {
     "name": "stdout",
     "output_type": "stream",
     "text": [
      "Enter your score between 0.0 to 1.0:1\n",
      "The Grade of your score 1.0 is A\n"
     ]
    }
   ],
   "source": [
    "# 7) Write a program to prompt from the user for a score between 0.0 and 1.0.\n",
    "# If the score is out of range print an error. If the score is between 0.0 and 1.0,\n",
    "# print a grade using the following table\n",
    "\n",
    "while True:\n",
    "    score = abs(float(input(\"Enter your score between 0.0 to 1.0:\")))\n",
    "    if score < 0.0 or score > 1.0:\n",
    "        print(\"The score is out of range. Enter the score valid between 0.0 to 1.0\")\n",
    "        continue\n",
    "    elif score >= 0.9:\n",
    "        print(f\"The Grade of your score {score} is A\")\n",
    "    elif score >= 0.8:\n",
    "        print(f\"The Grade of your score {score} is B\")\n",
    "    elif score >= 0.7:\n",
    "        print(f\"The Grade of your score {score} is c\")\n",
    "    elif score >= 0.6:\n",
    "        print(f\"The Grade of your score {score} is D\")\n",
    "    else:\n",
    "        print(f\"The Grade of your score {score} is F\")\n",
    "    break"
   ]
  },
  {
   "cell_type": "code",
   "execution_count": 8,
   "metadata": {},
   "outputs": [
    {
     "name": "stdout",
     "output_type": "stream",
     "text": [
      "The largest value in a list [3, 41, 12, 9, 74, 15] is :  74\n"
     ]
    }
   ],
   "source": [
    "# 8) Find the largest value in a list [3, 41, 12, 9, 74, 15]\n",
    "# construct the program using either for loop or while loop\n",
    "\n",
    "lst = [3, 41, 12, 9, 74, 15]\n",
    "tmp = lst[0] # Assigned frst index value in tmp variable\n",
    "for num in lst: # Iterate through the imput list\n",
    "    if num > tmp:  # checks each element in the list with the temp variable\n",
    "        tmp = num\n",
    "print(\"The largest value in a list %s is : \" % lst, tmp)"
   ]
  },
  {
   "cell_type": "code",
   "execution_count": null,
   "metadata": {},
   "outputs": [],
   "source": []
  }
 ],
 "metadata": {
  "kernelspec": {
   "display_name": "Python 3",
   "language": "python",
   "name": "python3"
  },
  "language_info": {
   "codemirror_mode": {
    "name": "ipython",
    "version": 3
   },
   "file_extension": ".py",
   "mimetype": "text/x-python",
   "name": "python",
   "nbconvert_exporter": "python",
   "pygments_lexer": "ipython3",
   "version": "3.7.6"
  }
 },
 "nbformat": 4,
 "nbformat_minor": 4
}
